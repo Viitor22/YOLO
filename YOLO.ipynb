{
 "cells": [
  {
   "cell_type": "markdown",
   "id": "f6b632d8",
   "metadata": {
    "papermill": {
     "duration": 0.005831,
     "end_time": "2025-04-22T17:42:47.685118",
     "exception": false,
     "start_time": "2025-04-22T17:42:47.679287",
     "status": "completed"
    },
    "tags": []
   },
   "source": [
    "IoU (Intersecção sobre União)"
   ]
  },
  {
   "cell_type": "code",
   "execution_count": 1,
   "id": "05476efa",
   "metadata": {
    "execution": {
     "iopub.execute_input": "2025-04-22T17:42:47.696190Z",
     "iopub.status.busy": "2025-04-22T17:42:47.695894Z",
     "iopub.status.idle": "2025-04-22T17:42:55.591593Z",
     "shell.execute_reply": "2025-04-22T17:42:55.590976Z"
    },
    "papermill": {
     "duration": 7.902699,
     "end_time": "2025-04-22T17:42:55.593000",
     "exception": false,
     "start_time": "2025-04-22T17:42:47.690301",
     "status": "completed"
    },
    "tags": []
   },
   "outputs": [],
   "source": [
    "import torch\n",
    "\n",
    "def intersection_over_union(boxes_preds, boxes_labels, box_format):\n",
    "    # boxes_preds shape is (N, 4) where N is the number of bboxes\n",
    "    if box_format == \"midpoint\":\n",
    "        box1_x1 = boxes_preds[..., 0:1] - boxes_preds[..., 2:3] / 2\n",
    "        box1_y1 = boxes_preds[..., 1:2] - boxes_preds[..., 3:4] / 2\n",
    "        box1_x2 = boxes_preds[..., 0:1] + boxes_preds[..., 2:3] / 2\n",
    "        box1_y2 = boxes_preds[..., 1:2] + boxes_preds[..., 3:4] / 2\n",
    "        box2_x1 = boxes_labels[..., 0:1] - boxes_labels[..., 2:3] / 2\n",
    "        box2_y1 = boxes_labels[..., 1:2] - boxes_labels[..., 3:4] / 2\n",
    "        box2_x2 = boxes_labels[..., 0:1] + boxes_labels[..., 2:3] / 2\n",
    "        box2_y2 = boxes_labels[..., 1:2] + boxes_labels[..., 3:4] / 2\n",
    "    elif box_format == \"corners\":\n",
    "        box1_x1 = boxes_preds[..., 0:1]\n",
    "        box1_y1 = boxes_preds[..., 1:2]\n",
    "        box1_x2 = boxes_preds[..., 2:3]\n",
    "        box1_y2 = boxes_preds[..., 3:4]\n",
    "        box2_x1 = boxes_labels[..., 0:1]\n",
    "        box2_y1 = boxes_labels[..., 1:2]\n",
    "        box2_x2 = boxes_labels[..., 2:3]\n",
    "        box2_y2 = boxes_labels[..., 3:4]\n",
    "\n",
    "    x1 = torch.max(box1_x1, box2_x1)\n",
    "    y1 = torch.max(box1_y1, box2_y1)\n",
    "    x2 = torch.min(box1_x2, box2_x2)\n",
    "    y2 = torch.min(box1_y2, box2_y2)\n",
    "\n",
    "    intersection = (x2 - x1).clamp(0) * (y2 - y1).clamp(0)\n",
    "\n",
    "    box1_area = abs((box1_x2 - box1_x1) * (box1_y2-box1_y1))\n",
    "    box2_area = abs((box2_x2 - box2_x1) * (box2_y2-box2_y1))\n",
    "\n",
    "    return intersection / (box1_area + box2_area - intersection) + 1e-6"
   ]
  },
  {
   "cell_type": "markdown",
   "id": "b5059e9b",
   "metadata": {
    "papermill": {
     "duration": 0.004766,
     "end_time": "2025-04-22T17:42:55.603904",
     "exception": false,
     "start_time": "2025-04-22T17:42:55.599138",
     "status": "completed"
    },
    "tags": []
   },
   "source": [
    "Non Max Supression"
   ]
  },
  {
   "cell_type": "code",
   "execution_count": 2,
   "id": "99aa1492",
   "metadata": {
    "execution": {
     "iopub.execute_input": "2025-04-22T17:42:55.614210Z",
     "iopub.status.busy": "2025-04-22T17:42:55.613945Z",
     "iopub.status.idle": "2025-04-22T17:42:55.618871Z",
     "shell.execute_reply": "2025-04-22T17:42:55.618286Z"
    },
    "papermill": {
     "duration": 0.01132,
     "end_time": "2025-04-22T17:42:55.619851",
     "exception": false,
     "start_time": "2025-04-22T17:42:55.608531",
     "status": "completed"
    },
    "tags": []
   },
   "outputs": [],
   "source": [
    "def nms(bboxes, iou_threshold, threshold, box_format):\n",
    "    assert type(bboxes) == list\n",
    "\n",
    "    bboxes = [box for box in bboxes if box[1] > threshold]\n",
    "    bboxes = sorted(bboxes, key=lambda x: x[1], reverse=True)\n",
    "    bboxes_after_nms = []\n",
    "\n",
    "    while bboxes:\n",
    "        chosen_box = bboxes.pop(0)\n",
    "\n",
    "        bboxes = [\n",
    "            box\n",
    "            for box in bboxes\n",
    "            if box[0] != chosen_box[0]\n",
    "            or intersection_over_union(\n",
    "                torch.tensor(chosen_box[2:]),\n",
    "                torch.tensor(box[2:]),\n",
    "                box_format=box_format,\n",
    "                )\n",
    "            < iou_threshold\n",
    "        ]\n",
    "\n",
    "        bboxes_after_nms.append(chosen_box)\n",
    "    return bboxes_after_nms\n",
    "\n"
   ]
  },
  {
   "cell_type": "markdown",
   "id": "1bd6dbd8",
   "metadata": {
    "papermill": {
     "duration": 0.004467,
     "end_time": "2025-04-22T17:42:55.628965",
     "exception": false,
     "start_time": "2025-04-22T17:42:55.624498",
     "status": "completed"
    },
    "tags": []
   },
   "source": [
    "mAP (Mean Average Precision)"
   ]
  },
  {
   "cell_type": "code",
   "execution_count": 3,
   "id": "f0e124cf",
   "metadata": {
    "execution": {
     "iopub.execute_input": "2025-04-22T17:42:55.638978Z",
     "iopub.status.busy": "2025-04-22T17:42:55.638795Z",
     "iopub.status.idle": "2025-04-22T17:42:55.647399Z",
     "shell.execute_reply": "2025-04-22T17:42:55.647003Z"
    },
    "papermill": {
     "duration": 0.014994,
     "end_time": "2025-04-22T17:42:55.648547",
     "exception": false,
     "start_time": "2025-04-22T17:42:55.633553",
     "status": "completed"
    },
    "tags": []
   },
   "outputs": [],
   "source": [
    "from collections import Counter\n",
    "\n",
    "def map(\n",
    "    pred_boxes, true_boxes, iou_threshold=0.5, box_format=\"midpoint\", num_classes=20\n",
    "):\n",
    "    \"\"\"\n",
    "    Calculates mean average precision \n",
    "\n",
    "    Parameters:\n",
    "        pred_boxes (list): list of lists containing all bboxes with each bboxes\n",
    "        specified as [train_idx, class_prediction, prob_score, x1, y1, x2, y2]\n",
    "        true_boxes (list): Similar as pred_boxes except all the correct ones \n",
    "        iou_threshold (float): threshold where predicted bboxes is correct\n",
    "        box_format (str): \"midpoint\" or \"corners\" used to specify bboxes\n",
    "        num_classes (int): number of classes\n",
    "\n",
    "    Returns:\n",
    "        float: mAP value across all classes given a specific IoU threshold \n",
    "    \"\"\"\n",
    "\n",
    "    # list storing all AP for respective classes\n",
    "    average_precisions = []\n",
    "\n",
    "    # used for numerical stability later on\n",
    "    epsilon = 1e-6\n",
    "\n",
    "    for c in range(num_classes):\n",
    "        detections = []\n",
    "        ground_truths = []\n",
    "\n",
    "        # Go through all predictions and targets,\n",
    "        # and only add the ones that belong to the\n",
    "        # current class c\n",
    "        for detection in pred_boxes:\n",
    "            if detection[1] == c:\n",
    "                detections.append(detection)\n",
    "\n",
    "        for true_box in true_boxes:\n",
    "            if true_box[1] == c:\n",
    "                ground_truths.append(true_box)\n",
    "\n",
    "        # find the amount of bboxes for each training example\n",
    "        # Counter here finds how many ground truth bboxes we get\n",
    "        # for each training example, so let's say img 0 has 3,\n",
    "        # img 1 has 5 then we will obtain a dictionary with:\n",
    "        # amount_bboxes = {0:3, 1:5}\n",
    "        amount_bboxes = Counter([gt[0] for gt in ground_truths])\n",
    "\n",
    "        # We then go through each key, val in this dictionary\n",
    "        # and convert to the following (w.r.t same example):\n",
    "        # ammount_bboxes = {0:torch.tensor[0,0,0], 1:torch.tensor[0,0,0,0,0]}\n",
    "        for key, val in amount_bboxes.items():\n",
    "            amount_bboxes[key] = torch.zeros(val)\n",
    "\n",
    "        # sort by box probabilities which is index 2\n",
    "        detections.sort(key=lambda x: x[2], reverse=True)\n",
    "        TP = torch.zeros((len(detections)))\n",
    "        FP = torch.zeros((len(detections)))\n",
    "        total_true_bboxes = len(ground_truths)\n",
    "        \n",
    "        # If none exists for this class then we can safely skip\n",
    "        if total_true_bboxes == 0:\n",
    "            continue\n",
    "\n",
    "        for detection_idx, detection in enumerate(detections):\n",
    "            # Only take out the ground_truths that have the same\n",
    "            # training idx as detection\n",
    "            ground_truth_img = [\n",
    "                bbox for bbox in ground_truths if bbox[0] == detection[0]\n",
    "            ]\n",
    "\n",
    "            num_gts = len(ground_truth_img)\n",
    "            best_iou = 0\n",
    "\n",
    "            for idx, gt in enumerate(ground_truth_img):\n",
    "                iou = intersection_over_union(\n",
    "                    torch.tensor(detection[3:]),\n",
    "                    torch.tensor(gt[3:]),\n",
    "                    box_format=box_format,\n",
    "                )\n",
    "\n",
    "                if iou > best_iou:\n",
    "                    best_iou = iou\n",
    "                    best_gt_idx = idx\n",
    "\n",
    "            if best_iou > iou_threshold:\n",
    "                # only detect ground truth detection once\n",
    "                if amount_bboxes[detection[0]][best_gt_idx] == 0:\n",
    "                    # true positive and add this bounding box to seen\n",
    "                    TP[detection_idx] = 1\n",
    "                    amount_bboxes[detection[0]][best_gt_idx] = 1\n",
    "                else:\n",
    "                    FP[detection_idx] = 1\n",
    "\n",
    "            # if IOU is lower then the detection is a false positive\n",
    "            else:\n",
    "                FP[detection_idx] = 1\n",
    "\n",
    "        TP_cumsum = torch.cumsum(TP, dim=0)\n",
    "        FP_cumsum = torch.cumsum(FP, dim=0)\n",
    "        recalls = TP_cumsum / (total_true_bboxes + epsilon)\n",
    "        precisions = torch.divide(TP_cumsum, (TP_cumsum + FP_cumsum + epsilon))\n",
    "        precisions = torch.cat((torch.tensor([1]), precisions))\n",
    "        recalls = torch.cat((torch.tensor([0]), recalls))\n",
    "        # torch.trapz for numerical integration\n",
    "        average_precisions.append(torch.trapz(precisions, recalls))\n",
    "\n",
    "    return sum(average_precisions) / len(average_precisions)"
   ]
  },
  {
   "cell_type": "code",
   "execution_count": 4,
   "id": "faace89a",
   "metadata": {
    "execution": {
     "iopub.execute_input": "2025-04-22T17:42:55.658550Z",
     "iopub.status.busy": "2025-04-22T17:42:55.658376Z",
     "iopub.status.idle": "2025-04-22T17:42:55.661644Z",
     "shell.execute_reply": "2025-04-22T17:42:55.660921Z"
    },
    "papermill": {
     "duration": 0.009481,
     "end_time": "2025-04-22T17:42:55.662736",
     "exception": false,
     "start_time": "2025-04-22T17:42:55.653255",
     "status": "completed"
    },
    "tags": []
   },
   "outputs": [],
   "source": [
    "import torch.nn as nn"
   ]
  },
  {
   "cell_type": "markdown",
   "id": "d8409ce9",
   "metadata": {
    "papermill": {
     "duration": 0.004525,
     "end_time": "2025-04-22T17:42:55.672004",
     "exception": false,
     "start_time": "2025-04-22T17:42:55.667479",
     "status": "completed"
    },
    "tags": []
   },
   "source": [
    "YOLO v1"
   ]
  },
  {
   "cell_type": "markdown",
   "id": "8ba58bef",
   "metadata": {
    "papermill": {
     "duration": 0.004541,
     "end_time": "2025-04-22T17:42:55.681148",
     "exception": false,
     "start_time": "2025-04-22T17:42:55.676607",
     "status": "completed"
    },
    "tags": []
   },
   "source": [
    "Architeture"
   ]
  },
  {
   "cell_type": "code",
   "execution_count": 5,
   "id": "6815efee",
   "metadata": {
    "execution": {
     "iopub.execute_input": "2025-04-22T17:42:55.691308Z",
     "iopub.status.busy": "2025-04-22T17:42:55.691121Z",
     "iopub.status.idle": "2025-04-22T17:42:55.695511Z",
     "shell.execute_reply": "2025-04-22T17:42:55.694978Z"
    },
    "papermill": {
     "duration": 0.010693,
     "end_time": "2025-04-22T17:42:55.696510",
     "exception": false,
     "start_time": "2025-04-22T17:42:55.685817",
     "status": "completed"
    },
    "tags": []
   },
   "outputs": [],
   "source": [
    "architeture_config = [\n",
    "    (7,64,2,3),\n",
    "    \"M\",\n",
    "    (3,192,1,1),\n",
    "    \"M\",\n",
    "    (1,128,1,0),\n",
    "    (3,256,1,1),\n",
    "    (1,256,1,0),\n",
    "    (3,512,1,1),\n",
    "    \"M\",\n",
    "    [(1,256,1,0),(3,512,1,1),4],\n",
    "    (1,512,1,0),\n",
    "    (3,1024,1,1),\n",
    "    \"M\",\n",
    "    [(1,512,1,0),(3,1024,1,1),2],\n",
    "    (3,1024,1,1),\n",
    "    (3,1024,2,1),\n",
    "    (3,1024,1,1),\n",
    "    (3,1024,1,1),\n",
    "]"
   ]
  },
  {
   "cell_type": "code",
   "execution_count": 6,
   "id": "238a3ac3",
   "metadata": {
    "execution": {
     "iopub.execute_input": "2025-04-22T17:42:55.707087Z",
     "iopub.status.busy": "2025-04-22T17:42:55.706889Z",
     "iopub.status.idle": "2025-04-22T17:42:55.711109Z",
     "shell.execute_reply": "2025-04-22T17:42:55.710411Z"
    },
    "papermill": {
     "duration": 0.010816,
     "end_time": "2025-04-22T17:42:55.712193",
     "exception": false,
     "start_time": "2025-04-22T17:42:55.701377",
     "status": "completed"
    },
    "tags": []
   },
   "outputs": [],
   "source": [
    "class CNNBlock(nn.Module):\n",
    "    def __init__(self, in_channels, out_channels, **kwargs):\n",
    "        super(CNNBlock, self).__init__()\n",
    "        self.conv = nn.Conv2d(in_channels, out_channels, bias=False, **kwargs)\n",
    "        self.batchnorm = nn.BatchNorm2d(out_channels)\n",
    "        self.leakyrelu = nn.LeakyReLU(0.1)\n",
    "\n",
    "    def forward(self, x):\n",
    "        return self.leakyrelu(self.batchnorm(self.conv(x)))\n"
   ]
  },
  {
   "cell_type": "code",
   "execution_count": 7,
   "id": "16673cb7",
   "metadata": {
    "execution": {
     "iopub.execute_input": "2025-04-22T17:42:55.722526Z",
     "iopub.status.busy": "2025-04-22T17:42:55.722323Z",
     "iopub.status.idle": "2025-04-22T17:42:55.729846Z",
     "shell.execute_reply": "2025-04-22T17:42:55.729131Z"
    },
    "papermill": {
     "duration": 0.014157,
     "end_time": "2025-04-22T17:42:55.731074",
     "exception": false,
     "start_time": "2025-04-22T17:42:55.716917",
     "status": "completed"
    },
    "tags": []
   },
   "outputs": [],
   "source": [
    "class YOLOv1(nn.Module):\n",
    "    def __init__(self, in_channels=3, **kwargs):\n",
    "        super(YOLOv1, self).__init__()\n",
    "        self.architeture = architeture_config\n",
    "        self.in_channels = in_channels\n",
    "        self.darknet = self._create_conv_layers(self.architeture)\n",
    "        self.fcs = self._create_fcs(**kwargs)\n",
    "\n",
    "    def forward(self, x):\n",
    "        x = self.darknet(x)\n",
    "        return self.fcs(torch.flatten(x, start_dim=1))\n",
    "    \n",
    "    def _create_conv_layers(self, architeture):\n",
    "        layers = []\n",
    "        in_channels = self.in_channels\n",
    "\n",
    "        for x in architeture:\n",
    "            if type(x) == tuple:\n",
    "                layers += [\n",
    "                    CNNBlock(\n",
    "                    in_channels, out_channels=x[1], kernel_size=x[0], stride=x[2], padding=x[3],\n",
    "                )]\n",
    "\n",
    "                in_channels = x[1]\n",
    "\n",
    "            elif type(x) == str:\n",
    "                layers +=[nn.MaxPool2d(kernel_size=2, stride=2)]\n",
    "            elif type(x) == list:\n",
    "                conv1 = x[0]\n",
    "                conv2 = x[1]\n",
    "                num_repeats = x[2]\n",
    "\n",
    "                for _ in range(num_repeats):\n",
    "                    layers += [\n",
    "                        CNNBlock(\n",
    "                            in_channels,\n",
    "                            conv1[1],\n",
    "                            kernel_size=conv1[0],\n",
    "                            stride=conv1[2],\n",
    "                            padding=conv1[3],\n",
    "                        )\n",
    "                    ]\n",
    "\n",
    "                    layers += [\n",
    "                        CNNBlock(\n",
    "                            conv1[1],\n",
    "                            conv2[1],\n",
    "                            kernel_size=conv2[0],\n",
    "                            stride=conv2[2],\n",
    "                            padding=conv2[3],\n",
    "                        )\n",
    "                    ]\n",
    "\n",
    "                    in_channels = conv2[1]\n",
    "        return nn.Sequential(*layers)\n",
    "    \n",
    "    def _create_fcs(self, split_size, num_boxes, num_classes):\n",
    "        S, B, C = split_size, num_boxes, num_classes\n",
    "        return nn.Sequential(\n",
    "            nn.Flatten(),\n",
    "            nn.Linear(1024 * S * S, 496),\n",
    "            nn.Dropout(0.5),\n",
    "            nn.LeakyReLU(0.1),\n",
    "            nn.Linear(496, S * S * (C + B * 5)),\n",
    "        )\n"
   ]
  },
  {
   "cell_type": "code",
   "execution_count": 8,
   "id": "98e3c419",
   "metadata": {
    "execution": {
     "iopub.execute_input": "2025-04-22T17:42:55.741412Z",
     "iopub.status.busy": "2025-04-22T17:42:55.741229Z",
     "iopub.status.idle": "2025-04-22T17:42:55.744740Z",
     "shell.execute_reply": "2025-04-22T17:42:55.744182Z"
    },
    "papermill": {
     "duration": 0.009919,
     "end_time": "2025-04-22T17:42:55.745859",
     "exception": false,
     "start_time": "2025-04-22T17:42:55.735940",
     "status": "completed"
    },
    "tags": []
   },
   "outputs": [],
   "source": [
    "def test(S=7, B=2, C=20):\n",
    "    model = YOLOv1(split_size=S, num_boxes=B, num_classes=C)\n",
    "    x = torch.randn((2,3,448,448))\n",
    "    print(model(x).shape)"
   ]
  },
  {
   "cell_type": "code",
   "execution_count": 9,
   "id": "8e7e950a",
   "metadata": {
    "execution": {
     "iopub.execute_input": "2025-04-22T17:42:55.756293Z",
     "iopub.status.busy": "2025-04-22T17:42:55.756084Z",
     "iopub.status.idle": "2025-04-22T17:42:58.153510Z",
     "shell.execute_reply": "2025-04-22T17:42:58.152330Z"
    },
    "papermill": {
     "duration": 2.404037,
     "end_time": "2025-04-22T17:42:58.154867",
     "exception": false,
     "start_time": "2025-04-22T17:42:55.750830",
     "status": "completed"
    },
    "tags": []
   },
   "outputs": [
    {
     "name": "stdout",
     "output_type": "stream",
     "text": [
      "torch.Size([2, 1470])\n"
     ]
    }
   ],
   "source": [
    "test()"
   ]
  },
  {
   "cell_type": "markdown",
   "id": "bd6a59cb",
   "metadata": {
    "papermill": {
     "duration": 0.005008,
     "end_time": "2025-04-22T17:42:58.165140",
     "exception": false,
     "start_time": "2025-04-22T17:42:58.160132",
     "status": "completed"
    },
    "tags": []
   },
   "source": [
    "Loss Function"
   ]
  },
  {
   "cell_type": "code",
   "execution_count": 10,
   "id": "dfee63a5",
   "metadata": {
    "execution": {
     "iopub.execute_input": "2025-04-22T17:42:58.175957Z",
     "iopub.status.busy": "2025-04-22T17:42:58.175617Z",
     "iopub.status.idle": "2025-04-22T17:42:58.192396Z",
     "shell.execute_reply": "2025-04-22T17:42:58.191685Z"
    },
    "papermill": {
     "duration": 0.023643,
     "end_time": "2025-04-22T17:42:58.193549",
     "exception": false,
     "start_time": "2025-04-22T17:42:58.169906",
     "status": "completed"
    },
    "tags": []
   },
   "outputs": [],
   "source": [
    "class Loss(nn.Module):\n",
    "    def __init__(self, S=7, B=2, C=20):\n",
    "        super(Loss, self).__init__()\n",
    "        self.mse = nn.MSELoss(reduction=\"sum\")\n",
    "        self.S = S\n",
    "        self.B = B\n",
    "        self.C = C\n",
    "        self.lambda_noobj = 0.5\n",
    "        self.lambda_coord = 5\n",
    "\n",
    "    def forward(self, predictions, target):\n",
    "        predictions = predictions.reshape(-1, self.S, self.S, self.C +self.B*5)\n",
    "\n",
    "        iou_b1 = intersection_over_union(predictions[...,21:25], target[...,21:25], box_format=\"midpoint\")\n",
    "        iou_b2 = intersection_over_union(predictions[...,26:30], target[...,21:25], box_format=\"midpoint\")\n",
    "        ious = torch.cat([iou_b1.unsqueeze(0), iou_b2.unsqueeze(0)], dim=0)\n",
    "        iou_maxes, bestbox = torch.max(ious, dim=0)\n",
    "        exists_box = target[..., 20].unsqueeze(3) #função identidade do objeto i\n",
    "\n",
    "        #for box coordinates\n",
    "        box_predictions = exists_box * (\n",
    "            (bestbox * predictions[..., 26:30]\n",
    "            + (1-bestbox) * predictions[...,21:25]\n",
    "            )\n",
    "        )\n",
    "\n",
    "        box_targets = exists_box * target[...,21:25]\n",
    "\n",
    "        box_predictions[...,2:4] = torch.sign(box_predictions[...,2:4]) * torch.sqrt(torch.abs(box_predictions[..., 2:4] + 1e-6))\n",
    "\n",
    "        box_targets[...,2:4] = torch.sqrt(box_targets[...,2:4])\n",
    "\n",
    "        box_loss = self.mse(\n",
    "            torch.flatten(box_predictions, end_dim=-2),\n",
    "            torch.flatten(box_targets, end_dim=-2),\n",
    "        )\n",
    "\n",
    "        #for object loss\n",
    "        pred_box = (\n",
    "            bestbox * predictions[...,25:26] + (1 - bestbox) * predictions[...,20:21]\n",
    "        )\n",
    "\n",
    "        object_loss = self.mse(\n",
    "            torch.flatten(exists_box*pred_box),\n",
    "            torch.flatten(exists_box * target[..., 20:21]),\n",
    "        )\n",
    "\n",
    "        #for no object loss\n",
    "        no_object_loss = self.mse(\n",
    "            torch.flatten((1 - exists_box) * predictions[...,20:21], start_dim=1),\n",
    "            torch.flatten((1-exists_box) * target[...,20:21], start_dim=1)\n",
    "        )\n",
    "\n",
    "        no_object_loss += self.mse(\n",
    "            torch.flatten((1 - exists_box) * predictions[...,25:26], start_dim=1),\n",
    "            torch.flatten((1-exists_box) * target[...,20:21], start_dim=1)\n",
    "        )\n",
    "\n",
    "        #for class loss\n",
    "\n",
    "        class_loss = self.mse(\n",
    "            torch.flatten( exists_box * predictions[..., :20], end_dim=-2),\n",
    "            torch.flatten( exists_box * target[..., :20], end_dim=-2),\n",
    "        )\n",
    "\n",
    "        loss = (\n",
    "            self.lambda_coord * box_loss \n",
    "            + object_loss\n",
    "            + self.lambda_noobj * no_object_loss\n",
    "            + class_loss\n",
    "        )\n",
    "\n",
    "        return loss"
   ]
  },
  {
   "cell_type": "markdown",
   "id": "f7d3879e",
   "metadata": {
    "papermill": {
     "duration": 0.00469,
     "end_time": "2025-04-22T17:42:58.203149",
     "exception": false,
     "start_time": "2025-04-22T17:42:58.198459",
     "status": "completed"
    },
    "tags": []
   },
   "source": [
    "Importando o Dataset"
   ]
  },
  {
   "cell_type": "code",
   "execution_count": 11,
   "id": "088ea7e5",
   "metadata": {
    "execution": {
     "iopub.execute_input": "2025-04-22T17:42:58.213600Z",
     "iopub.status.busy": "2025-04-22T17:42:58.213391Z",
     "iopub.status.idle": "2025-04-22T17:42:58.820230Z",
     "shell.execute_reply": "2025-04-22T17:42:58.819394Z"
    },
    "papermill": {
     "duration": 0.613567,
     "end_time": "2025-04-22T17:42:58.821402",
     "exception": false,
     "start_time": "2025-04-22T17:42:58.207835",
     "status": "completed"
    },
    "tags": []
   },
   "outputs": [
    {
     "name": "stdout",
     "output_type": "stream",
     "text": [
      "Path to dataset files: /kaggle/input/pascalvoc-yolo\n"
     ]
    }
   ],
   "source": [
    "import kagglehub\n",
    "\n",
    "# Download latest version\n",
    "path = kagglehub.dataset_download(\"aladdinpersson/pascalvoc-yolo\")\n",
    "\n",
    "print(\"Path to dataset files:\", path)"
   ]
  },
  {
   "cell_type": "code",
   "execution_count": 12,
   "id": "bbb0843b",
   "metadata": {
    "execution": {
     "iopub.execute_input": "2025-04-22T17:42:58.832504Z",
     "iopub.status.busy": "2025-04-22T17:42:58.832276Z",
     "iopub.status.idle": "2025-04-22T17:43:00.958091Z",
     "shell.execute_reply": "2025-04-22T17:43:00.957511Z"
    },
    "papermill": {
     "duration": 2.132894,
     "end_time": "2025-04-22T17:43:00.959409",
     "exception": false,
     "start_time": "2025-04-22T17:42:58.826515",
     "status": "completed"
    },
    "tags": []
   },
   "outputs": [],
   "source": [
    "import pandas as pd\n",
    "from PIL import Image"
   ]
  },
  {
   "cell_type": "code",
   "execution_count": 13,
   "id": "be7efa47",
   "metadata": {
    "execution": {
     "iopub.execute_input": "2025-04-22T17:43:00.971033Z",
     "iopub.status.busy": "2025-04-22T17:43:00.970688Z",
     "iopub.status.idle": "2025-04-22T17:43:00.979573Z",
     "shell.execute_reply": "2025-04-22T17:43:00.978917Z"
    },
    "papermill": {
     "duration": 0.015931,
     "end_time": "2025-04-22T17:43:00.980642",
     "exception": false,
     "start_time": "2025-04-22T17:43:00.964711",
     "status": "completed"
    },
    "tags": []
   },
   "outputs": [],
   "source": [
    "import torch.utils\n",
    "import torch.utils.data\n",
    "import os\n",
    "\n",
    "\n",
    "class VOCDataset(torch.utils.data.Dataset):\n",
    "    def __init__(\n",
    "            self, csv_file, img_dir, label_dir, S=7,B=2,C=20, transform=None,\n",
    "            ):\n",
    "        self.annotations = pd.read_csv(csv_file)\n",
    "        self.img_dir = img_dir\n",
    "        self.label_dir = label_dir\n",
    "        self.transform = transform\n",
    "        self.S = S\n",
    "        self.B = B\n",
    "        self.C = C\n",
    "    def __len__(self):\n",
    "        return len(self.annotations)\n",
    "    \n",
    "    def __getitem__(self, index):\n",
    "        label_path = os.path.join(self.label_dir, self.annotations.iloc[index, 1])\n",
    "        boxes = []\n",
    "        with open(label_path) as f:\n",
    "            for label in f.readlines():\n",
    "                class_label, x, y, width, height = [\n",
    "                    float(x) if float(x) != int(float(x)) else int(x)\n",
    "                    for x in label.replace(\"\\n\", \"\").split()\n",
    "                ]\n",
    "\n",
    "                boxes.append([class_label, x, y, width, height])\n",
    "\n",
    "        img_path = os.path.join(self.img_dir, self.annotations.iloc[index, 0])\n",
    "        image = Image.open(img_path)\n",
    "        boxes = torch.tensor(boxes)\n",
    "\n",
    "        if self.transform:\n",
    "            # image = self.transform(image)\n",
    "            image, boxes = self.transform(image, boxes)\n",
    "\n",
    "        # Convert To Cells\n",
    "        label_matrix = torch.zeros((self.S, self.S, self.C + 5 * self.B))\n",
    "        for box in boxes:\n",
    "            class_label, x, y, width, height = box.tolist()\n",
    "            class_label = int(class_label)\n",
    "\n",
    "            # i,j represents the cell row and cell column\n",
    "            i, j = int(self.S * y), int(self.S * x)\n",
    "            x_cell, y_cell = self.S * x - j, self.S * y - i\n",
    "\n",
    "            \"\"\"\n",
    "            Calculating the width and height of cell of bounding box,\n",
    "            relative to the cell is done by the following, with\n",
    "            width as the example:\n",
    "            \n",
    "            width_pixels = (width*self.image_width)\n",
    "            cell_pixels = (self.image_width)\n",
    "            \n",
    "            Then to find the width relative to the cell is simply:\n",
    "            width_pixels/cell_pixels, simplification leads to the\n",
    "            formulas below.\n",
    "            \"\"\"\n",
    "            width_cell, height_cell = (\n",
    "                width * self.S,\n",
    "                height * self.S,\n",
    "            )\n",
    "\n",
    "            # If no object already found for specific cell i,j\n",
    "            # Note: This means we restrict to ONE object\n",
    "            # per cell!\n",
    "            if label_matrix[i, j, 20] == 0:\n",
    "                # Set that there exists an object\n",
    "                label_matrix[i, j, 20] = 1\n",
    "\n",
    "                # Box coordinates\n",
    "                box_coordinates = torch.tensor(\n",
    "                    [x_cell, y_cell, width_cell, height_cell]\n",
    "                )\n",
    "\n",
    "                label_matrix[i, j, 21:25] = box_coordinates\n",
    "\n",
    "                # Set one hot encoding for class_label\n",
    "                label_matrix[i, j, class_label] = 1\n",
    "\n",
    "        return image, label_matrix"
   ]
  },
  {
   "cell_type": "markdown",
   "id": "0b9a2012",
   "metadata": {
    "papermill": {
     "duration": 0.004597,
     "end_time": "2025-04-22T17:43:00.989869",
     "exception": false,
     "start_time": "2025-04-22T17:43:00.985272",
     "status": "completed"
    },
    "tags": []
   },
   "source": [
    "Train Test Splits"
   ]
  },
  {
   "cell_type": "code",
   "execution_count": 14,
   "id": "801ce99f",
   "metadata": {
    "execution": {
     "iopub.execute_input": "2025-04-22T17:43:00.999575Z",
     "iopub.status.busy": "2025-04-22T17:43:00.999371Z",
     "iopub.status.idle": "2025-04-22T17:43:07.386931Z",
     "shell.execute_reply": "2025-04-22T17:43:07.386352Z"
    },
    "papermill": {
     "duration": 6.393939,
     "end_time": "2025-04-22T17:43:07.388306",
     "exception": false,
     "start_time": "2025-04-22T17:43:00.994367",
     "status": "completed"
    },
    "tags": []
   },
   "outputs": [],
   "source": [
    "import torchvision.transforms as transforms\n",
    "import torch.optim as optim\n",
    "import torchvision.transforms.functional as FT\n",
    "from tqdm import tqdm\n",
    "from torch.utils.data import DataLoader"
   ]
  },
  {
   "cell_type": "code",
   "execution_count": 15,
   "id": "31e043a1",
   "metadata": {
    "execution": {
     "iopub.execute_input": "2025-04-22T17:43:07.399411Z",
     "iopub.status.busy": "2025-04-22T17:43:07.399088Z",
     "iopub.status.idle": "2025-04-22T17:43:07.402258Z",
     "shell.execute_reply": "2025-04-22T17:43:07.401763Z"
    },
    "papermill": {
     "duration": 0.009525,
     "end_time": "2025-04-22T17:43:07.403325",
     "exception": false,
     "start_time": "2025-04-22T17:43:07.393800",
     "status": "completed"
    },
    "tags": []
   },
   "outputs": [],
   "source": [
    "def save_checkpoint(state, filename=\"my_checkpoint.pth.tar\"):\n",
    "    print(\"=> Saving checkpoint\")\n",
    "    torch.save(state, filename)"
   ]
  },
  {
   "cell_type": "code",
   "execution_count": 16,
   "id": "fb7d3aaf",
   "metadata": {
    "execution": {
     "iopub.execute_input": "2025-04-22T17:43:07.413637Z",
     "iopub.status.busy": "2025-04-22T17:43:07.413414Z",
     "iopub.status.idle": "2025-04-22T17:43:07.416967Z",
     "shell.execute_reply": "2025-04-22T17:43:07.416273Z"
    },
    "papermill": {
     "duration": 0.010037,
     "end_time": "2025-04-22T17:43:07.418120",
     "exception": false,
     "start_time": "2025-04-22T17:43:07.408083",
     "status": "completed"
    },
    "tags": []
   },
   "outputs": [],
   "source": [
    "def load_checkpoint(checkpoint, model, optimizer):\n",
    "    print(\"=> Loading checkpoint\")\n",
    "    model.load_state_dict(checkpoint[\"state_dict\"])\n",
    "    optimizer.load_state_dict(checkpoint[\"optimizer\"])"
   ]
  },
  {
   "cell_type": "code",
   "execution_count": 17,
   "id": "c69dec9c",
   "metadata": {
    "execution": {
     "iopub.execute_input": "2025-04-22T17:43:07.428998Z",
     "iopub.status.busy": "2025-04-22T17:43:07.428281Z",
     "iopub.status.idle": "2025-04-22T17:43:07.433962Z",
     "shell.execute_reply": "2025-04-22T17:43:07.433471Z"
    },
    "papermill": {
     "duration": 0.012118,
     "end_time": "2025-04-22T17:43:07.434922",
     "exception": false,
     "start_time": "2025-04-22T17:43:07.422804",
     "status": "completed"
    },
    "tags": []
   },
   "outputs": [],
   "source": [
    "import matplotlib.pyplot as plt\n",
    "import matplotlib.patches as patches\n",
    "import numpy as np\n",
    "\n",
    "def plot_image(image, boxes, filename=None):\n",
    "    \"\"\"Plots predicted bounding boxes on the image\"\"\"\n",
    "    im = np.array(image)\n",
    "    height, width, _ = im.shape\n",
    "\n",
    "    # Create figure and axes\n",
    "    fig, ax = plt.subplots(1)\n",
    "    # Display the image\n",
    "    ax.imshow(im)\n",
    "\n",
    "    # box[0] is x midpoint, box[2] is width\n",
    "    # box[1] is y midpoint, box[3] is height\n",
    "\n",
    "    # Create a Rectangle potch\n",
    "    for box in boxes:\n",
    "        box = box[2:]\n",
    "        assert len(box) == 4, \"Got more values than in x, y, w, h, in a box!\"\n",
    "        upper_left_x = box[0] - box[2] / 2\n",
    "        upper_left_y = box[1] - box[3] / 2\n",
    "        rect = patches.Rectangle(\n",
    "            (upper_left_x * width, upper_left_y * height),\n",
    "            box[2] * width,\n",
    "            box[3] * height,\n",
    "            linewidth=1,\n",
    "            edgecolor=\"r\",\n",
    "            facecolor=\"none\",\n",
    "        )\n",
    "        # Add the patch to the Axes\n",
    "        ax.add_patch(rect)\n",
    "\n",
    "    if filename:\n",
    "        os.makedirs(os.path.dirname(filename), exist_ok=True)\n",
    "        plt.savefig(filename)\n",
    "        plt.close()\n",
    "    else:\n",
    "        plt.show()"
   ]
  },
  {
   "cell_type": "code",
   "execution_count": 18,
   "id": "f01c84d0",
   "metadata": {
    "execution": {
     "iopub.execute_input": "2025-04-22T17:43:07.445261Z",
     "iopub.status.busy": "2025-04-22T17:43:07.445077Z",
     "iopub.status.idle": "2025-04-22T17:43:07.451017Z",
     "shell.execute_reply": "2025-04-22T17:43:07.450491Z"
    },
    "papermill": {
     "duration": 0.012375,
     "end_time": "2025-04-22T17:43:07.452064",
     "exception": false,
     "start_time": "2025-04-22T17:43:07.439689",
     "status": "completed"
    },
    "tags": []
   },
   "outputs": [],
   "source": [
    "def convert_cellboxes(predictions, S=7):\n",
    "    \"\"\"\n",
    "    Converts bounding boxes output from Yolo with\n",
    "    an image split size of S into entire image ratios\n",
    "    rather than relative to cell ratios. Tried to do this\n",
    "    vectorized, but this resulted in quite difficult to read\n",
    "    code... Use as a black box? Or implement a more intuitive,\n",
    "    using 2 for loops iterating range(S) and convert them one\n",
    "    by one, resulting in a slower but more readable implementation.\n",
    "    \"\"\"\n",
    "\n",
    "    predictions = predictions.to(\"cpu\")\n",
    "    batch_size = predictions.shape[0]\n",
    "    predictions = predictions.reshape(batch_size, 7, 7, 30)\n",
    "    bboxes1 = predictions[..., 21:25]\n",
    "    bboxes2 = predictions[..., 26:30]\n",
    "    scores = torch.cat(\n",
    "        (predictions[..., 20].unsqueeze(0), predictions[..., 25].unsqueeze(0)), dim=0\n",
    "    )\n",
    "    best_box = scores.argmax(0).unsqueeze(-1)\n",
    "    best_boxes = bboxes1 * (1 - best_box) + best_box * bboxes2\n",
    "    cell_indices = torch.arange(7).repeat(batch_size, 7, 1).unsqueeze(-1)\n",
    "    x = 1 / S * (best_boxes[..., :1] + cell_indices)\n",
    "    y = 1 / S * (best_boxes[..., 1:2] + cell_indices.permute(0, 2, 1, 3))\n",
    "    w_y = 1 / S * best_boxes[..., 2:4]\n",
    "    converted_bboxes = torch.cat((x, y, w_y), dim=-1)\n",
    "    predicted_class = predictions[..., :20].argmax(-1).unsqueeze(-1)\n",
    "    best_confidence = torch.max(predictions[..., 20], predictions[..., 25]).unsqueeze(\n",
    "        -1\n",
    "    )\n",
    "    converted_preds = torch.cat(\n",
    "        (predicted_class, best_confidence, converted_bboxes), dim=-1\n",
    "    )\n",
    "\n",
    "    return converted_preds"
   ]
  },
  {
   "cell_type": "code",
   "execution_count": 19,
   "id": "17310d64",
   "metadata": {
    "execution": {
     "iopub.execute_input": "2025-04-22T17:43:07.462626Z",
     "iopub.status.busy": "2025-04-22T17:43:07.462437Z",
     "iopub.status.idle": "2025-04-22T17:43:07.466652Z",
     "shell.execute_reply": "2025-04-22T17:43:07.466114Z"
    },
    "papermill": {
     "duration": 0.010514,
     "end_time": "2025-04-22T17:43:07.467726",
     "exception": false,
     "start_time": "2025-04-22T17:43:07.457212",
     "status": "completed"
    },
    "tags": []
   },
   "outputs": [],
   "source": [
    "def cellboxes_to_boxes(out, S=7):\n",
    "    converted_pred = convert_cellboxes(out).reshape(out.shape[0], S * S, -1)\n",
    "    converted_pred[..., 0] = converted_pred[..., 0].long()\n",
    "    all_bboxes = []\n",
    "\n",
    "    for ex_idx in range(out.shape[0]):\n",
    "        bboxes = []\n",
    "\n",
    "        for bbox_idx in range(S * S):\n",
    "            bboxes.append([x.item() for x in converted_pred[ex_idx, bbox_idx, :]])\n",
    "        all_bboxes.append(bboxes)\n",
    "\n",
    "    return all_bboxes"
   ]
  },
  {
   "cell_type": "code",
   "execution_count": 20,
   "id": "bd59f8e7",
   "metadata": {
    "execution": {
     "iopub.execute_input": "2025-04-22T17:43:07.477701Z",
     "iopub.status.busy": "2025-04-22T17:43:07.477460Z",
     "iopub.status.idle": "2025-04-22T17:43:07.571073Z",
     "shell.execute_reply": "2025-04-22T17:43:07.570330Z"
    },
    "papermill": {
     "duration": 0.099966,
     "end_time": "2025-04-22T17:43:07.572345",
     "exception": false,
     "start_time": "2025-04-22T17:43:07.472379",
     "status": "completed"
    },
    "tags": []
   },
   "outputs": [],
   "source": [
    "def get_bboxes(\n",
    "    loader,\n",
    "    model,\n",
    "    iou_threshold,\n",
    "    threshold,\n",
    "    pred_format=\"cells\",\n",
    "    box_format=\"midpoint\",\n",
    "    device = torch.device(\"cuda\") if torch.cuda.is_available() else torch.device(\"cpu\")\n",
    "    # device = torch.device(\"cpu\"),\n",
    "):\n",
    "    all_pred_boxes = []\n",
    "    all_true_boxes = []\n",
    "\n",
    "    # make sure model is in eval before get bboxes\n",
    "    model.eval()\n",
    "    train_idx = 0\n",
    "\n",
    "    for batch_idx, (x, labels) in enumerate(loader):\n",
    "        x = x.to(device)\n",
    "        labels = labels.to(device)\n",
    "\n",
    "        with torch.no_grad():\n",
    "            predictions = model(x)\n",
    "\n",
    "        batch_size = x.shape[0]\n",
    "        true_bboxes = cellboxes_to_boxes(labels)\n",
    "        bboxes = cellboxes_to_boxes(predictions)\n",
    "\n",
    "        for idx in range(batch_size):\n",
    "            nms_boxes = nms(\n",
    "                bboxes[idx],\n",
    "                iou_threshold=iou_threshold,\n",
    "                threshold=threshold,\n",
    "                box_format=box_format,\n",
    "            )\n",
    "\n",
    "\n",
    "            # if batch_idx == 0 and idx == 0:\n",
    "            #     plot_image(x[idx].permute(1,2,0).to(\"cpu\"), nms_boxes)\n",
    "            #     print(nms_boxes)\n",
    "\n",
    "            for nms_box in nms_boxes:\n",
    "                all_pred_boxes.append([train_idx] + nms_box)\n",
    "\n",
    "            for box in true_bboxes[idx]:\n",
    "                # many will get converted to 0 pred\n",
    "                if box[1] > threshold:\n",
    "                    all_true_boxes.append([train_idx] + box)\n",
    "\n",
    "            train_idx += 1\n",
    "\n",
    "    model.train()\n",
    "    return all_pred_boxes, all_true_boxes"
   ]
  },
  {
   "cell_type": "code",
   "execution_count": 21,
   "id": "a9387096",
   "metadata": {
    "execution": {
     "iopub.execute_input": "2025-04-22T17:43:07.582754Z",
     "iopub.status.busy": "2025-04-22T17:43:07.582535Z",
     "iopub.status.idle": "2025-04-22T17:43:07.595773Z",
     "shell.execute_reply": "2025-04-22T17:43:07.595236Z"
    },
    "papermill": {
     "duration": 0.01945,
     "end_time": "2025-04-22T17:43:07.596818",
     "exception": false,
     "start_time": "2025-04-22T17:43:07.577368",
     "status": "completed"
    },
    "tags": []
   },
   "outputs": [
    {
     "data": {
      "text/plain": [
       "<torch._C.Generator at 0x7e823cf24210>"
      ]
     },
     "execution_count": 21,
     "metadata": {},
     "output_type": "execute_result"
    }
   ],
   "source": [
    "import torch\n",
    "seed = 123\n",
    "torch.manual_seed(seed)"
   ]
  },
  {
   "cell_type": "markdown",
   "id": "81b9cbd2",
   "metadata": {
    "papermill": {
     "duration": 0.004615,
     "end_time": "2025-04-22T17:43:07.606177",
     "exception": false,
     "start_time": "2025-04-22T17:43:07.601562",
     "status": "completed"
    },
    "tags": []
   },
   "source": [
    "Hyperparameters"
   ]
  },
  {
   "cell_type": "code",
   "execution_count": 22,
   "id": "3bd9bd0a",
   "metadata": {
    "execution": {
     "iopub.execute_input": "2025-04-22T17:43:07.616184Z",
     "iopub.status.busy": "2025-04-22T17:43:07.616004Z",
     "iopub.status.idle": "2025-04-22T17:43:07.619936Z",
     "shell.execute_reply": "2025-04-22T17:43:07.619269Z"
    },
    "papermill": {
     "duration": 0.010261,
     "end_time": "2025-04-22T17:43:07.621044",
     "exception": false,
     "start_time": "2025-04-22T17:43:07.610783",
     "status": "completed"
    },
    "tags": []
   },
   "outputs": [],
   "source": [
    "lr = 2e-5\n",
    "device = torch.device(\"cuda\") if torch.cuda.is_available() else torch.device(\"cpu\")\n",
    "batch_size = 16\n",
    "# device = torch.device(\"cpu\")\n",
    "weight_decay = 0 \n",
    "epochs = 100\n",
    "num_workers = 0\n",
    "pin_memory = True\n",
    "load_model = True\n",
    "load_model_file = \"overfit.pth.tar\"\n",
    "img_dir = \"/kaggle/input/pascalvoc-yolo/images\"\n",
    "label_dir = \"/kaggle/input/pascalvoc-yolo/labels\""
   ]
  },
  {
   "cell_type": "code",
   "execution_count": 23,
   "id": "8beb38a9",
   "metadata": {
    "execution": {
     "iopub.execute_input": "2025-04-22T17:43:07.631335Z",
     "iopub.status.busy": "2025-04-22T17:43:07.630902Z",
     "iopub.status.idle": "2025-04-22T17:43:07.634518Z",
     "shell.execute_reply": "2025-04-22T17:43:07.633991Z"
    },
    "papermill": {
     "duration": 0.009796,
     "end_time": "2025-04-22T17:43:07.635578",
     "exception": false,
     "start_time": "2025-04-22T17:43:07.625782",
     "status": "completed"
    },
    "tags": []
   },
   "outputs": [],
   "source": [
    "class Compose(object):\n",
    "    def __init__(self, transforms):\n",
    "        self.transforms = transforms\n",
    "\n",
    "    def __call__(self, img, bboxes):\n",
    "        for t in self.transforms:\n",
    "            img, bboxes = t(img), bboxes\n",
    "        \n",
    "        return img, bboxes"
   ]
  },
  {
   "cell_type": "code",
   "execution_count": 24,
   "id": "aff85a04",
   "metadata": {
    "execution": {
     "iopub.execute_input": "2025-04-22T17:43:07.645870Z",
     "iopub.status.busy": "2025-04-22T17:43:07.645699Z",
     "iopub.status.idle": "2025-04-22T17:43:07.649043Z",
     "shell.execute_reply": "2025-04-22T17:43:07.648380Z"
    },
    "papermill": {
     "duration": 0.009675,
     "end_time": "2025-04-22T17:43:07.650043",
     "exception": false,
     "start_time": "2025-04-22T17:43:07.640368",
     "status": "completed"
    },
    "tags": []
   },
   "outputs": [],
   "source": [
    "transform = Compose([transforms.Resize((448,448)), transforms.ToTensor()])"
   ]
  },
  {
   "cell_type": "code",
   "execution_count": 25,
   "id": "222d4f1f",
   "metadata": {
    "execution": {
     "iopub.execute_input": "2025-04-22T17:43:07.660043Z",
     "iopub.status.busy": "2025-04-22T17:43:07.659852Z",
     "iopub.status.idle": "2025-04-22T17:43:07.664026Z",
     "shell.execute_reply": "2025-04-22T17:43:07.663498Z"
    },
    "papermill": {
     "duration": 0.010333,
     "end_time": "2025-04-22T17:43:07.665078",
     "exception": false,
     "start_time": "2025-04-22T17:43:07.654745",
     "status": "completed"
    },
    "tags": []
   },
   "outputs": [],
   "source": [
    "def train_fn(train_loader, model, optimizer, loss_fn):\n",
    "    loop = tqdm(train_loader, leave=True)\n",
    "    mean_loss = []\n",
    "\n",
    "    for batch_idx, (x,y) in enumerate(loop):\n",
    "        x,y =x.to(device), y.to(device)\n",
    "        out = model(x)\n",
    "        loss = loss_fn(out, y)\n",
    "        mean_loss.append(loss.item())\n",
    "        optimizer.zero_grad()\n",
    "        loss.backward()\n",
    "        optimizer.step()\n",
    "\n",
    "        loop.set_postfix(loss = loss.item())\n",
    "    \n",
    "    print(f\"Mean loss was {sum(mean_loss)/len(mean_loss)}\")"
   ]
  },
  {
   "cell_type": "code",
   "execution_count": 26,
   "id": "deb9e1a2",
   "metadata": {
    "execution": {
     "iopub.execute_input": "2025-04-22T17:43:07.675545Z",
     "iopub.status.busy": "2025-04-22T17:43:07.675349Z",
     "iopub.status.idle": "2025-04-22T17:43:07.682736Z",
     "shell.execute_reply": "2025-04-22T17:43:07.682018Z"
    },
    "papermill": {
     "duration": 0.013861,
     "end_time": "2025-04-22T17:43:07.683736",
     "exception": false,
     "start_time": "2025-04-22T17:43:07.669875",
     "status": "completed"
    },
    "tags": []
   },
   "outputs": [],
   "source": [
    "def main():\n",
    "    model = YOLOv1(split_size=7, num_boxes=2, num_classes=20).to(device)\n",
    "    optimizer = optim.Adam(\n",
    "        model.parameters(), lr = lr, weight_decay=weight_decay\n",
    "    )\n",
    "    loss_fn = Loss()\n",
    "\n",
    "    if load_model and os.path.isfile(load_model_file):\n",
    "        load_checkpoint(torch.load(load_model_file), model, optimizer)\n",
    "    else:\n",
    "        print(\"Checkpoint não encontrado. Treinando do zero.\")\n",
    "\n",
    "    train_dataset = VOCDataset(\n",
    "        r\"/kaggle/input/pascalvoc-yolo/100examples.csv\", \n",
    "        transform=transform,\n",
    "        img_dir=img_dir,\n",
    "        label_dir=label_dir\n",
    "    )\n",
    "    test_dataset = VOCDataset(\n",
    "        r\"/kaggle/input/pascalvoc-yolo/test.csv\", \n",
    "        transform=transform,\n",
    "        img_dir=img_dir,\n",
    "        label_dir=label_dir\n",
    "    )\n",
    "\n",
    "    train_loader = DataLoader(\n",
    "        dataset=train_dataset,\n",
    "        batch_size=batch_size,\n",
    "        num_workers=num_workers,\n",
    "        pin_memory=pin_memory,\n",
    "        shuffle=True,\n",
    "        drop_last=True,\n",
    "    )\n",
    "\n",
    "\n",
    "    test_loader = DataLoader(\n",
    "        dataset=test_dataset,\n",
    "        batch_size=batch_size,\n",
    "        num_workers=num_workers,\n",
    "        pin_memory=pin_memory,\n",
    "        shuffle=True,\n",
    "        drop_last=True,\n",
    "    )\n",
    "\n",
    "    for epoch in range(epochs):\n",
    "        for x, y in train_loader:\n",
    "            x = x.to(device)\n",
    "            for idx in range(8):\n",
    "                bboxes = cellboxes_to_boxes(model(x))\n",
    "                bboxes = nms(bboxes[idx], iou_threshold=0.5, threshold=0.4, box_format=\"midpoint\")\n",
    "                # filename = os.path.join(\"plots\", f\"epoch_{epoch}\", f\"img_{idx}.png\")\n",
    "                filename = \"/kaggle/working/\" + f\"/epoch_{epoch}\" + f\"/img_{idx}.png\"\n",
    "                plot_image(x[idx].permute(1,2,0).to(\"cpu\"), bboxes, filename=filename)\n",
    "            # import sys\n",
    "            # sys.exit()\n",
    "\n",
    "        pred_boxes, target_boxes = get_bboxes(\n",
    "            train_loader, model,iou_threshold=0.5, threshold=0.4\n",
    "        )\n",
    "\n",
    "        mean_avg_prec = map(\n",
    "            pred_boxes, target_boxes, iou_threshold=0.5, box_format=\"midpoint\"\n",
    "        )\n",
    "        \n",
    "        print(f\"Train mAP: {mean_avg_prec}\")\n",
    "    \n",
    "        if mean_avg_prec > 0.9:\n",
    "            checkpoint = {\n",
    "                \"state_dict\": model.state_dict(),\n",
    "                \"optimizer\": optimizer.state_dict(),\n",
    "            }\n",
    "            save_checkpoint(checkpoint, filename=load_model_file)\n",
    "            import time\n",
    "            time.sleep(10)\n",
    "        \n",
    "        train_fn(train_loader, model, optimizer, loss_fn)"
   ]
  },
  {
   "cell_type": "code",
   "execution_count": 27,
   "id": "42d60295",
   "metadata": {
    "execution": {
     "iopub.execute_input": "2025-04-22T17:43:07.693832Z",
     "iopub.status.busy": "2025-04-22T17:43:07.693606Z",
     "iopub.status.idle": "2025-04-22T18:17:25.182655Z",
     "shell.execute_reply": "2025-04-22T18:17:25.181825Z"
    },
    "papermill": {
     "duration": 2057.495435,
     "end_time": "2025-04-22T18:17:25.183784",
     "exception": false,
     "start_time": "2025-04-22T17:43:07.688349",
     "status": "completed"
    },
    "tags": []
   },
   "outputs": [
    {
     "name": "stdout",
     "output_type": "stream",
     "text": [
      "Checkpoint não encontrado. Treinando do zero.\n",
      "Train mAP: 0.0\n"
     ]
    },
    {
     "name": "stderr",
     "output_type": "stream",
     "text": [
      "100%|██████████| 6/6 [00:03<00:00,  1.55it/s, loss=1.14e+3]\n"
     ]
    },
    {
     "name": "stdout",
     "output_type": "stream",
     "text": [
      "Mean loss was 1079.7631123860676\n",
      "Train mAP: 0.0\n"
     ]
    },
    {
     "name": "stderr",
     "output_type": "stream",
     "text": [
      "100%|██████████| 6/6 [00:02<00:00,  2.06it/s, loss=1.01e+3]\n"
     ]
    },
    {
     "name": "stdout",
     "output_type": "stream",
     "text": [
      "Mean loss was 805.6069132486979\n",
      "Train mAP: 0.0\n"
     ]
    },
    {
     "name": "stderr",
     "output_type": "stream",
     "text": [
      "100%|██████████| 6/6 [00:02<00:00,  2.01it/s, loss=703]\n"
     ]
    },
    {
     "name": "stdout",
     "output_type": "stream",
     "text": [
      "Mean loss was 720.5889485677084\n",
      "Train mAP: 0.0\n"
     ]
    },
    {
     "name": "stderr",
     "output_type": "stream",
     "text": [
      "100%|██████████| 6/6 [00:03<00:00,  2.00it/s, loss=519]\n"
     ]
    },
    {
     "name": "stdout",
     "output_type": "stream",
     "text": [
      "Mean loss was 670.7953491210938\n",
      "Train mAP: 0.0\n"
     ]
    },
    {
     "name": "stderr",
     "output_type": "stream",
     "text": [
      "100%|██████████| 6/6 [00:02<00:00,  2.04it/s, loss=719]\n"
     ]
    },
    {
     "name": "stdout",
     "output_type": "stream",
     "text": [
      "Mean loss was 617.3699086507162\n",
      "Train mAP: 0.0\n"
     ]
    },
    {
     "name": "stderr",
     "output_type": "stream",
     "text": [
      "100%|██████████| 6/6 [00:02<00:00,  2.02it/s, loss=595]\n"
     ]
    },
    {
     "name": "stdout",
     "output_type": "stream",
     "text": [
      "Mean loss was 564.822265625\n",
      "Train mAP: 0.0\n"
     ]
    },
    {
     "name": "stderr",
     "output_type": "stream",
     "text": [
      "100%|██████████| 6/6 [00:03<00:00,  1.96it/s, loss=616]\n"
     ]
    },
    {
     "name": "stdout",
     "output_type": "stream",
     "text": [
      "Mean loss was 564.5383656819662\n",
      "Train mAP: 0.0\n"
     ]
    },
    {
     "name": "stderr",
     "output_type": "stream",
     "text": [
      "100%|██████████| 6/6 [00:02<00:00,  2.00it/s, loss=676]\n"
     ]
    },
    {
     "name": "stdout",
     "output_type": "stream",
     "text": [
      "Mean loss was 544.6419372558594\n",
      "Train mAP: 0.0\n"
     ]
    },
    {
     "name": "stderr",
     "output_type": "stream",
     "text": [
      "100%|██████████| 6/6 [00:03<00:00,  1.99it/s, loss=475]\n"
     ]
    },
    {
     "name": "stdout",
     "output_type": "stream",
     "text": [
      "Mean loss was 532.3996225992838\n",
      "Train mAP: 0.0\n"
     ]
    },
    {
     "name": "stderr",
     "output_type": "stream",
     "text": [
      "100%|██████████| 6/6 [00:03<00:00,  1.99it/s, loss=527]\n"
     ]
    },
    {
     "name": "stdout",
     "output_type": "stream",
     "text": [
      "Mean loss was 498.2335510253906\n",
      "Train mAP: 0.0\n"
     ]
    },
    {
     "name": "stderr",
     "output_type": "stream",
     "text": [
      "100%|██████████| 6/6 [00:03<00:00,  1.96it/s, loss=682]\n"
     ]
    },
    {
     "name": "stdout",
     "output_type": "stream",
     "text": [
      "Mean loss was 481.9927571614583\n",
      "Train mAP: 0.0\n"
     ]
    },
    {
     "name": "stderr",
     "output_type": "stream",
     "text": [
      "100%|██████████| 6/6 [00:03<00:00,  1.92it/s, loss=499]\n"
     ]
    },
    {
     "name": "stdout",
     "output_type": "stream",
     "text": [
      "Mean loss was 479.6421661376953\n",
      "Train mAP: 0.0\n"
     ]
    },
    {
     "name": "stderr",
     "output_type": "stream",
     "text": [
      "100%|██████████| 6/6 [00:03<00:00,  1.95it/s, loss=515]\n"
     ]
    },
    {
     "name": "stdout",
     "output_type": "stream",
     "text": [
      "Mean loss was 468.5674743652344\n",
      "Train mAP: 0.0\n"
     ]
    },
    {
     "name": "stderr",
     "output_type": "stream",
     "text": [
      "100%|██████████| 6/6 [00:03<00:00,  1.95it/s, loss=454]\n"
     ]
    },
    {
     "name": "stdout",
     "output_type": "stream",
     "text": [
      "Mean loss was 456.47923278808594\n",
      "Train mAP: 0.0\n"
     ]
    },
    {
     "name": "stderr",
     "output_type": "stream",
     "text": [
      "100%|██████████| 6/6 [00:03<00:00,  1.88it/s, loss=470]\n"
     ]
    },
    {
     "name": "stdout",
     "output_type": "stream",
     "text": [
      "Mean loss was 455.2333272298177\n",
      "Train mAP: 0.0\n"
     ]
    },
    {
     "name": "stderr",
     "output_type": "stream",
     "text": [
      "100%|██████████| 6/6 [00:03<00:00,  1.94it/s, loss=424]\n"
     ]
    },
    {
     "name": "stdout",
     "output_type": "stream",
     "text": [
      "Mean loss was 426.01087443033856\n",
      "Train mAP: 0.0\n"
     ]
    },
    {
     "name": "stderr",
     "output_type": "stream",
     "text": [
      "100%|██████████| 6/6 [00:03<00:00,  1.95it/s, loss=269]\n"
     ]
    },
    {
     "name": "stdout",
     "output_type": "stream",
     "text": [
      "Mean loss was 415.62562561035156\n",
      "Train mAP: 0.0009863943560048938\n"
     ]
    },
    {
     "name": "stderr",
     "output_type": "stream",
     "text": [
      "100%|██████████| 6/6 [00:03<00:00,  1.94it/s, loss=532]\n"
     ]
    },
    {
     "name": "stdout",
     "output_type": "stream",
     "text": [
      "Mean loss was 401.97246805826825\n",
      "Train mAP: 0.0017613632371649146\n"
     ]
    },
    {
     "name": "stderr",
     "output_type": "stream",
     "text": [
      "100%|██████████| 6/6 [00:03<00:00,  1.93it/s, loss=412]\n"
     ]
    },
    {
     "name": "stdout",
     "output_type": "stream",
     "text": [
      "Mean loss was 381.0252227783203\n",
      "Train mAP: 0.0016852475237101316\n"
     ]
    },
    {
     "name": "stderr",
     "output_type": "stream",
     "text": [
      "100%|██████████| 6/6 [00:03<00:00,  1.93it/s, loss=480]\n"
     ]
    },
    {
     "name": "stdout",
     "output_type": "stream",
     "text": [
      "Mean loss was 393.243158976237\n",
      "Train mAP: 0.002737924689427018\n"
     ]
    },
    {
     "name": "stderr",
     "output_type": "stream",
     "text": [
      "100%|██████████| 6/6 [00:03<00:00,  1.90it/s, loss=302]\n"
     ]
    },
    {
     "name": "stdout",
     "output_type": "stream",
     "text": [
      "Mean loss was 405.6474253336589\n",
      "Train mAP: 0.012499990873038769\n"
     ]
    },
    {
     "name": "stderr",
     "output_type": "stream",
     "text": [
      "100%|██████████| 6/6 [00:03<00:00,  1.93it/s, loss=432]\n"
     ]
    },
    {
     "name": "stdout",
     "output_type": "stream",
     "text": [
      "Mean loss was 410.48186747233075\n",
      "Train mAP: 0.003645832184702158\n"
     ]
    },
    {
     "name": "stderr",
     "output_type": "stream",
     "text": [
      "100%|██████████| 6/6 [00:03<00:00,  1.89it/s, loss=354]\n"
     ]
    },
    {
     "name": "stdout",
     "output_type": "stream",
     "text": [
      "Mean loss was 393.4747568766276\n",
      "Train mAP: 0.005217665806412697\n"
     ]
    },
    {
     "name": "stderr",
     "output_type": "stream",
     "text": [
      "100%|██████████| 6/6 [00:03<00:00,  1.88it/s, loss=392]\n"
     ]
    },
    {
     "name": "stdout",
     "output_type": "stream",
     "text": [
      "Mean loss was 375.72214762369794\n",
      "Train mAP: 0.025446409359574318\n"
     ]
    },
    {
     "name": "stderr",
     "output_type": "stream",
     "text": [
      "100%|██████████| 6/6 [00:03<00:00,  1.88it/s, loss=366]\n"
     ]
    },
    {
     "name": "stdout",
     "output_type": "stream",
     "text": [
      "Mean loss was 383.53342692057294\n",
      "Train mAP: 0.0071525610983371735\n"
     ]
    },
    {
     "name": "stderr",
     "output_type": "stream",
     "text": [
      "100%|██████████| 6/6 [00:03<00:00,  1.97it/s, loss=389]\n"
     ]
    },
    {
     "name": "stdout",
     "output_type": "stream",
     "text": [
      "Mean loss was 339.2078857421875\n",
      "Train mAP: 0.005967207718640566\n"
     ]
    },
    {
     "name": "stderr",
     "output_type": "stream",
     "text": [
      "100%|██████████| 6/6 [00:03<00:00,  1.89it/s, loss=365]\n"
     ]
    },
    {
     "name": "stdout",
     "output_type": "stream",
     "text": [
      "Mean loss was 323.6513264973958\n",
      "Train mAP: 0.004689628724008799\n"
     ]
    },
    {
     "name": "stderr",
     "output_type": "stream",
     "text": [
      "100%|██████████| 6/6 [00:03<00:00,  1.89it/s, loss=299]\n"
     ]
    },
    {
     "name": "stdout",
     "output_type": "stream",
     "text": [
      "Mean loss was 348.479736328125\n",
      "Train mAP: 0.010430561378598213\n"
     ]
    },
    {
     "name": "stderr",
     "output_type": "stream",
     "text": [
      "100%|██████████| 6/6 [00:03<00:00,  1.83it/s, loss=351]\n"
     ]
    },
    {
     "name": "stdout",
     "output_type": "stream",
     "text": [
      "Mean loss was 341.29490152994794\n",
      "Train mAP: 0.010102620348334312\n"
     ]
    },
    {
     "name": "stderr",
     "output_type": "stream",
     "text": [
      "100%|██████████| 6/6 [00:03<00:00,  1.89it/s, loss=415]\n"
     ]
    },
    {
     "name": "stdout",
     "output_type": "stream",
     "text": [
      "Mean loss was 334.56854248046875\n",
      "Train mAP: 0.009932506829500198\n"
     ]
    },
    {
     "name": "stderr",
     "output_type": "stream",
     "text": [
      "100%|██████████| 6/6 [00:03<00:00,  1.90it/s, loss=284]\n"
     ]
    },
    {
     "name": "stdout",
     "output_type": "stream",
     "text": [
      "Mean loss was 328.6817626953125\n",
      "Train mAP: 0.028783928602933884\n"
     ]
    },
    {
     "name": "stderr",
     "output_type": "stream",
     "text": [
      "100%|██████████| 6/6 [00:03<00:00,  1.88it/s, loss=364]\n"
     ]
    },
    {
     "name": "stdout",
     "output_type": "stream",
     "text": [
      "Mean loss was 332.6300557454427\n",
      "Train mAP: 0.01407636422663927\n"
     ]
    },
    {
     "name": "stderr",
     "output_type": "stream",
     "text": [
      "100%|██████████| 6/6 [00:03<00:00,  1.90it/s, loss=341]\n"
     ]
    },
    {
     "name": "stdout",
     "output_type": "stream",
     "text": [
      "Mean loss was 323.6702931722005\n",
      "Train mAP: 0.008347911760210991\n"
     ]
    },
    {
     "name": "stderr",
     "output_type": "stream",
     "text": [
      "100%|██████████| 6/6 [00:03<00:00,  1.86it/s, loss=268]\n"
     ]
    },
    {
     "name": "stdout",
     "output_type": "stream",
     "text": [
      "Mean loss was 329.28778076171875\n",
      "Train mAP: 0.004495502449572086\n"
     ]
    },
    {
     "name": "stderr",
     "output_type": "stream",
     "text": [
      "100%|██████████| 6/6 [00:03<00:00,  1.81it/s, loss=361]\n"
     ]
    },
    {
     "name": "stdout",
     "output_type": "stream",
     "text": [
      "Mean loss was 328.0712890625\n",
      "Train mAP: 0.04533755034208298\n"
     ]
    },
    {
     "name": "stderr",
     "output_type": "stream",
     "text": [
      "100%|██████████| 6/6 [00:03<00:00,  1.96it/s, loss=207]\n"
     ]
    },
    {
     "name": "stdout",
     "output_type": "stream",
     "text": [
      "Mean loss was 320.54795328776044\n",
      "Train mAP: 0.004154974594712257\n"
     ]
    },
    {
     "name": "stderr",
     "output_type": "stream",
     "text": [
      "100%|██████████| 6/6 [00:02<00:00,  2.01it/s, loss=264]\n"
     ]
    },
    {
     "name": "stdout",
     "output_type": "stream",
     "text": [
      "Mean loss was 310.3827158610026\n",
      "Train mAP: 0.010730704292654991\n"
     ]
    },
    {
     "name": "stderr",
     "output_type": "stream",
     "text": [
      "100%|██████████| 6/6 [00:03<00:00,  1.98it/s, loss=297]\n"
     ]
    },
    {
     "name": "stdout",
     "output_type": "stream",
     "text": [
      "Mean loss was 313.68459065755206\n",
      "Train mAP: 0.018539974465966225\n"
     ]
    },
    {
     "name": "stderr",
     "output_type": "stream",
     "text": [
      "100%|██████████| 6/6 [00:02<00:00,  2.01it/s, loss=302]\n"
     ]
    },
    {
     "name": "stdout",
     "output_type": "stream",
     "text": [
      "Mean loss was 303.2026850382487\n",
      "Train mAP: 0.022069716826081276\n"
     ]
    },
    {
     "name": "stderr",
     "output_type": "stream",
     "text": [
      "100%|██████████| 6/6 [00:03<00:00,  1.96it/s, loss=240]\n"
     ]
    },
    {
     "name": "stdout",
     "output_type": "stream",
     "text": [
      "Mean loss was 308.50038655598956\n",
      "Train mAP: 0.012935283593833447\n"
     ]
    },
    {
     "name": "stderr",
     "output_type": "stream",
     "text": [
      "100%|██████████| 6/6 [00:02<00:00,  2.01it/s, loss=300]\n"
     ]
    },
    {
     "name": "stdout",
     "output_type": "stream",
     "text": [
      "Mean loss was 299.0948715209961\n",
      "Train mAP: 0.014210684224963188\n"
     ]
    },
    {
     "name": "stderr",
     "output_type": "stream",
     "text": [
      "100%|██████████| 6/6 [00:03<00:00,  1.96it/s, loss=302]\n"
     ]
    },
    {
     "name": "stdout",
     "output_type": "stream",
     "text": [
      "Mean loss was 304.32775115966797\n",
      "Train mAP: 0.025704095140099525\n"
     ]
    },
    {
     "name": "stderr",
     "output_type": "stream",
     "text": [
      "100%|██████████| 6/6 [00:03<00:00,  2.00it/s, loss=245]\n"
     ]
    },
    {
     "name": "stdout",
     "output_type": "stream",
     "text": [
      "Mean loss was 282.9546483357747\n",
      "Train mAP: 0.01861402578651905\n"
     ]
    },
    {
     "name": "stderr",
     "output_type": "stream",
     "text": [
      "100%|██████████| 6/6 [00:03<00:00,  1.98it/s, loss=261]\n"
     ]
    },
    {
     "name": "stdout",
     "output_type": "stream",
     "text": [
      "Mean loss was 282.8044611612956\n",
      "Train mAP: 0.015073321759700775\n"
     ]
    },
    {
     "name": "stderr",
     "output_type": "stream",
     "text": [
      "100%|██████████| 6/6 [00:03<00:00,  1.96it/s, loss=236]\n"
     ]
    },
    {
     "name": "stdout",
     "output_type": "stream",
     "text": [
      "Mean loss was 289.51611073811847\n",
      "Train mAP: 0.06680771708488464\n"
     ]
    },
    {
     "name": "stderr",
     "output_type": "stream",
     "text": [
      "100%|██████████| 6/6 [00:02<00:00,  2.00it/s, loss=268]\n"
     ]
    },
    {
     "name": "stdout",
     "output_type": "stream",
     "text": [
      "Mean loss was 297.64330291748047\n",
      "Train mAP: 0.06790558993816376\n"
     ]
    },
    {
     "name": "stderr",
     "output_type": "stream",
     "text": [
      "100%|██████████| 6/6 [00:02<00:00,  2.01it/s, loss=246]\n"
     ]
    },
    {
     "name": "stdout",
     "output_type": "stream",
     "text": [
      "Mean loss was 298.2923049926758\n",
      "Train mAP: 0.08441008627414703\n"
     ]
    },
    {
     "name": "stderr",
     "output_type": "stream",
     "text": [
      "100%|██████████| 6/6 [00:02<00:00,  2.01it/s, loss=258]\n"
     ]
    },
    {
     "name": "stdout",
     "output_type": "stream",
     "text": [
      "Mean loss was 285.9393793741862\n",
      "Train mAP: 0.12656161189079285\n"
     ]
    },
    {
     "name": "stderr",
     "output_type": "stream",
     "text": [
      "100%|██████████| 6/6 [00:03<00:00,  2.00it/s, loss=279]\n"
     ]
    },
    {
     "name": "stdout",
     "output_type": "stream",
     "text": [
      "Mean loss was 273.24986521402997\n",
      "Train mAP: 0.060707055032253265\n"
     ]
    },
    {
     "name": "stderr",
     "output_type": "stream",
     "text": [
      "100%|██████████| 6/6 [00:03<00:00,  1.98it/s, loss=262]\n"
     ]
    },
    {
     "name": "stdout",
     "output_type": "stream",
     "text": [
      "Mean loss was 273.21319580078125\n",
      "Train mAP: 0.10789302736520767\n"
     ]
    },
    {
     "name": "stderr",
     "output_type": "stream",
     "text": [
      "100%|██████████| 6/6 [00:03<00:00,  1.96it/s, loss=278]\n"
     ]
    },
    {
     "name": "stdout",
     "output_type": "stream",
     "text": [
      "Mean loss was 275.1450500488281\n",
      "Train mAP: 0.11317058652639389\n"
     ]
    },
    {
     "name": "stderr",
     "output_type": "stream",
     "text": [
      "100%|██████████| 6/6 [00:03<00:00,  1.98it/s, loss=246]\n"
     ]
    },
    {
     "name": "stdout",
     "output_type": "stream",
     "text": [
      "Mean loss was 288.1197509765625\n",
      "Train mAP: 0.10255153477191925\n"
     ]
    },
    {
     "name": "stderr",
     "output_type": "stream",
     "text": [
      "100%|██████████| 6/6 [00:03<00:00,  2.00it/s, loss=329]\n"
     ]
    },
    {
     "name": "stdout",
     "output_type": "stream",
     "text": [
      "Mean loss was 277.95377858479816\n",
      "Train mAP: 0.08345744758844376\n"
     ]
    },
    {
     "name": "stderr",
     "output_type": "stream",
     "text": [
      "100%|██████████| 6/6 [00:03<00:00,  1.97it/s, loss=340]\n"
     ]
    },
    {
     "name": "stdout",
     "output_type": "stream",
     "text": [
      "Mean loss was 283.2581609090169\n",
      "Train mAP: 0.08729243278503418\n"
     ]
    },
    {
     "name": "stderr",
     "output_type": "stream",
     "text": [
      "100%|██████████| 6/6 [00:03<00:00,  1.99it/s, loss=378]\n"
     ]
    },
    {
     "name": "stdout",
     "output_type": "stream",
     "text": [
      "Mean loss was 273.39889272054035\n",
      "Train mAP: 0.10047898441553116\n"
     ]
    },
    {
     "name": "stderr",
     "output_type": "stream",
     "text": [
      "100%|██████████| 6/6 [00:03<00:00,  1.98it/s, loss=193]\n"
     ]
    },
    {
     "name": "stdout",
     "output_type": "stream",
     "text": [
      "Mean loss was 263.1144561767578\n",
      "Train mAP: 0.08859632909297943\n"
     ]
    },
    {
     "name": "stderr",
     "output_type": "stream",
     "text": [
      "100%|██████████| 6/6 [00:03<00:00,  1.96it/s, loss=239]\n"
     ]
    },
    {
     "name": "stdout",
     "output_type": "stream",
     "text": [
      "Mean loss was 267.06558481852215\n",
      "Train mAP: 0.11270216852426529\n"
     ]
    },
    {
     "name": "stderr",
     "output_type": "stream",
     "text": [
      "100%|██████████| 6/6 [00:03<00:00,  1.96it/s, loss=382]\n"
     ]
    },
    {
     "name": "stdout",
     "output_type": "stream",
     "text": [
      "Mean loss was 273.7993520100911\n",
      "Train mAP: 0.12914615869522095\n"
     ]
    },
    {
     "name": "stderr",
     "output_type": "stream",
     "text": [
      "100%|██████████| 6/6 [00:03<00:00,  1.93it/s, loss=371]\n"
     ]
    },
    {
     "name": "stdout",
     "output_type": "stream",
     "text": [
      "Mean loss was 287.6732177734375\n",
      "Train mAP: 0.11323399841785431\n"
     ]
    },
    {
     "name": "stderr",
     "output_type": "stream",
     "text": [
      "100%|██████████| 6/6 [00:03<00:00,  1.94it/s, loss=188]\n"
     ]
    },
    {
     "name": "stdout",
     "output_type": "stream",
     "text": [
      "Mean loss was 250.35419464111328\n",
      "Train mAP: 0.046022579073905945\n"
     ]
    },
    {
     "name": "stderr",
     "output_type": "stream",
     "text": [
      "100%|██████████| 6/6 [00:03<00:00,  1.97it/s, loss=216]\n"
     ]
    },
    {
     "name": "stdout",
     "output_type": "stream",
     "text": [
      "Mean loss was 261.26063283284503\n",
      "Train mAP: 0.08900576829910278\n"
     ]
    },
    {
     "name": "stderr",
     "output_type": "stream",
     "text": [
      "100%|██████████| 6/6 [00:03<00:00,  1.99it/s, loss=272]\n"
     ]
    },
    {
     "name": "stdout",
     "output_type": "stream",
     "text": [
      "Mean loss was 264.6920700073242\n",
      "Train mAP: 0.09568577259778976\n"
     ]
    },
    {
     "name": "stderr",
     "output_type": "stream",
     "text": [
      "100%|██████████| 6/6 [00:03<00:00,  1.91it/s, loss=196]\n"
     ]
    },
    {
     "name": "stdout",
     "output_type": "stream",
     "text": [
      "Mean loss was 255.1445515950521\n",
      "Train mAP: 0.11717704683542252\n"
     ]
    },
    {
     "name": "stderr",
     "output_type": "stream",
     "text": [
      "100%|██████████| 6/6 [00:02<00:00,  2.01it/s, loss=269]\n"
     ]
    },
    {
     "name": "stdout",
     "output_type": "stream",
     "text": [
      "Mean loss was 261.0250752766927\n",
      "Train mAP: 0.08590538799762726\n"
     ]
    },
    {
     "name": "stderr",
     "output_type": "stream",
     "text": [
      "100%|██████████| 6/6 [00:02<00:00,  2.01it/s, loss=289]\n"
     ]
    },
    {
     "name": "stdout",
     "output_type": "stream",
     "text": [
      "Mean loss was 269.31878662109375\n",
      "Train mAP: 0.13307411968708038\n"
     ]
    },
    {
     "name": "stderr",
     "output_type": "stream",
     "text": [
      "100%|██████████| 6/6 [00:03<00:00,  1.96it/s, loss=326]\n"
     ]
    },
    {
     "name": "stdout",
     "output_type": "stream",
     "text": [
      "Mean loss was 256.7301076253255\n",
      "Train mAP: 0.12566766142845154\n"
     ]
    },
    {
     "name": "stderr",
     "output_type": "stream",
     "text": [
      "100%|██████████| 6/6 [00:03<00:00,  1.97it/s, loss=336]\n"
     ]
    },
    {
     "name": "stdout",
     "output_type": "stream",
     "text": [
      "Mean loss was 260.0324961344401\n",
      "Train mAP: 0.08569233864545822\n"
     ]
    },
    {
     "name": "stderr",
     "output_type": "stream",
     "text": [
      "100%|██████████| 6/6 [00:03<00:00,  1.97it/s, loss=166]\n"
     ]
    },
    {
     "name": "stdout",
     "output_type": "stream",
     "text": [
      "Mean loss was 262.4175033569336\n",
      "Train mAP: 0.03328518941998482\n"
     ]
    },
    {
     "name": "stderr",
     "output_type": "stream",
     "text": [
      "100%|██████████| 6/6 [00:03<00:00,  1.97it/s, loss=206]\n"
     ]
    },
    {
     "name": "stdout",
     "output_type": "stream",
     "text": [
      "Mean loss was 244.84957885742188\n",
      "Train mAP: 0.09170641750097275\n"
     ]
    },
    {
     "name": "stderr",
     "output_type": "stream",
     "text": [
      "100%|██████████| 6/6 [00:03<00:00,  1.99it/s, loss=309]\n"
     ]
    },
    {
     "name": "stdout",
     "output_type": "stream",
     "text": [
      "Mean loss was 265.3210220336914\n",
      "Train mAP: 0.10749049484729767\n"
     ]
    },
    {
     "name": "stderr",
     "output_type": "stream",
     "text": [
      "100%|██████████| 6/6 [00:02<00:00,  2.02it/s, loss=223]\n"
     ]
    },
    {
     "name": "stdout",
     "output_type": "stream",
     "text": [
      "Mean loss was 256.84319559733075\n",
      "Train mAP: 0.08341144770383835\n"
     ]
    },
    {
     "name": "stderr",
     "output_type": "stream",
     "text": [
      "100%|██████████| 6/6 [00:03<00:00,  1.96it/s, loss=229]\n"
     ]
    },
    {
     "name": "stdout",
     "output_type": "stream",
     "text": [
      "Mean loss was 263.32151285807294\n",
      "Train mAP: 0.09048078954219818\n"
     ]
    },
    {
     "name": "stderr",
     "output_type": "stream",
     "text": [
      "100%|██████████| 6/6 [00:03<00:00,  2.00it/s, loss=199]\n"
     ]
    },
    {
     "name": "stdout",
     "output_type": "stream",
     "text": [
      "Mean loss was 236.6698786417643\n",
      "Train mAP: 0.13359622657299042\n"
     ]
    },
    {
     "name": "stderr",
     "output_type": "stream",
     "text": [
      "100%|██████████| 6/6 [00:03<00:00,  1.98it/s, loss=238]\n"
     ]
    },
    {
     "name": "stdout",
     "output_type": "stream",
     "text": [
      "Mean loss was 245.52254486083984\n",
      "Train mAP: 0.13130833208560944\n"
     ]
    },
    {
     "name": "stderr",
     "output_type": "stream",
     "text": [
      "100%|██████████| 6/6 [00:02<00:00,  2.00it/s, loss=239]\n"
     ]
    },
    {
     "name": "stdout",
     "output_type": "stream",
     "text": [
      "Mean loss was 246.14124552408853\n",
      "Train mAP: 0.0938844233751297\n"
     ]
    },
    {
     "name": "stderr",
     "output_type": "stream",
     "text": [
      "100%|██████████| 6/6 [00:03<00:00,  1.99it/s, loss=193]\n"
     ]
    },
    {
     "name": "stdout",
     "output_type": "stream",
     "text": [
      "Mean loss was 232.6262690226237\n",
      "Train mAP: 0.14341120421886444\n"
     ]
    },
    {
     "name": "stderr",
     "output_type": "stream",
     "text": [
      "100%|██████████| 6/6 [00:03<00:00,  1.97it/s, loss=218]\n"
     ]
    },
    {
     "name": "stdout",
     "output_type": "stream",
     "text": [
      "Mean loss was 244.2666982014974\n",
      "Train mAP: 0.16078336536884308\n"
     ]
    },
    {
     "name": "stderr",
     "output_type": "stream",
     "text": [
      "100%|██████████| 6/6 [00:03<00:00,  1.92it/s, loss=330]\n"
     ]
    },
    {
     "name": "stdout",
     "output_type": "stream",
     "text": [
      "Mean loss was 236.2975311279297\n",
      "Train mAP: 0.15415716171264648\n"
     ]
    },
    {
     "name": "stderr",
     "output_type": "stream",
     "text": [
      "100%|██████████| 6/6 [00:03<00:00,  2.00it/s, loss=317]\n"
     ]
    },
    {
     "name": "stdout",
     "output_type": "stream",
     "text": [
      "Mean loss was 252.6641362508138\n",
      "Train mAP: 0.09407182782888412\n"
     ]
    },
    {
     "name": "stderr",
     "output_type": "stream",
     "text": [
      "100%|██████████| 6/6 [00:03<00:00,  1.98it/s, loss=183]\n"
     ]
    },
    {
     "name": "stdout",
     "output_type": "stream",
     "text": [
      "Mean loss was 254.62643686930338\n",
      "Train mAP: 0.10014767944812775\n"
     ]
    },
    {
     "name": "stderr",
     "output_type": "stream",
     "text": [
      "100%|██████████| 6/6 [00:03<00:00,  1.98it/s, loss=212]\n"
     ]
    },
    {
     "name": "stdout",
     "output_type": "stream",
     "text": [
      "Mean loss was 244.00748697916666\n",
      "Train mAP: 0.15704238414764404\n"
     ]
    },
    {
     "name": "stderr",
     "output_type": "stream",
     "text": [
      "100%|██████████| 6/6 [00:03<00:00,  1.95it/s, loss=240]\n"
     ]
    },
    {
     "name": "stdout",
     "output_type": "stream",
     "text": [
      "Mean loss was 249.38997904459634\n",
      "Train mAP: 0.22571678459644318\n"
     ]
    },
    {
     "name": "stderr",
     "output_type": "stream",
     "text": [
      "100%|██████████| 6/6 [00:03<00:00,  1.94it/s, loss=219]\n"
     ]
    },
    {
     "name": "stdout",
     "output_type": "stream",
     "text": [
      "Mean loss was 240.5909907023112\n",
      "Train mAP: 0.16462655365467072\n"
     ]
    },
    {
     "name": "stderr",
     "output_type": "stream",
     "text": [
      "100%|██████████| 6/6 [00:03<00:00,  1.97it/s, loss=277]\n"
     ]
    },
    {
     "name": "stdout",
     "output_type": "stream",
     "text": [
      "Mean loss was 249.31740061442056\n",
      "Train mAP: 0.14094454050064087\n"
     ]
    },
    {
     "name": "stderr",
     "output_type": "stream",
     "text": [
      "100%|██████████| 6/6 [00:03<00:00,  1.99it/s, loss=209]\n"
     ]
    },
    {
     "name": "stdout",
     "output_type": "stream",
     "text": [
      "Mean loss was 242.76081085205078\n",
      "Train mAP: 0.12850312888622284\n"
     ]
    },
    {
     "name": "stderr",
     "output_type": "stream",
     "text": [
      "100%|██████████| 6/6 [00:03<00:00,  1.87it/s, loss=213]\n"
     ]
    },
    {
     "name": "stdout",
     "output_type": "stream",
     "text": [
      "Mean loss was 233.4491170247396\n",
      "Train mAP: 0.12675422430038452\n"
     ]
    },
    {
     "name": "stderr",
     "output_type": "stream",
     "text": [
      "100%|██████████| 6/6 [00:03<00:00,  1.96it/s, loss=309]\n"
     ]
    },
    {
     "name": "stdout",
     "output_type": "stream",
     "text": [
      "Mean loss was 241.96455891927084\n",
      "Train mAP: 0.15816500782966614\n"
     ]
    },
    {
     "name": "stderr",
     "output_type": "stream",
     "text": [
      "100%|██████████| 6/6 [00:03<00:00,  1.98it/s, loss=315]\n"
     ]
    },
    {
     "name": "stdout",
     "output_type": "stream",
     "text": [
      "Mean loss was 237.30089060465494\n",
      "Train mAP: 0.17279864847660065\n"
     ]
    },
    {
     "name": "stderr",
     "output_type": "stream",
     "text": [
      "100%|██████████| 6/6 [00:03<00:00,  1.99it/s, loss=180]\n"
     ]
    },
    {
     "name": "stdout",
     "output_type": "stream",
     "text": [
      "Mean loss was 227.931765238444\n",
      "Train mAP: 0.19597521424293518\n"
     ]
    },
    {
     "name": "stderr",
     "output_type": "stream",
     "text": [
      "100%|██████████| 6/6 [00:03<00:00,  1.97it/s, loss=229]\n"
     ]
    },
    {
     "name": "stdout",
     "output_type": "stream",
     "text": [
      "Mean loss was 241.0744883219401\n",
      "Train mAP: 0.15024203062057495\n"
     ]
    },
    {
     "name": "stderr",
     "output_type": "stream",
     "text": [
      "100%|██████████| 6/6 [00:03<00:00,  1.97it/s, loss=292]\n"
     ]
    },
    {
     "name": "stdout",
     "output_type": "stream",
     "text": [
      "Mean loss was 238.6217498779297\n",
      "Train mAP: 0.1564640998840332\n"
     ]
    },
    {
     "name": "stderr",
     "output_type": "stream",
     "text": [
      "100%|██████████| 6/6 [00:03<00:00,  1.95it/s, loss=198]\n"
     ]
    },
    {
     "name": "stdout",
     "output_type": "stream",
     "text": [
      "Mean loss was 238.4387664794922\n",
      "Train mAP: 0.153335839509964\n"
     ]
    },
    {
     "name": "stderr",
     "output_type": "stream",
     "text": [
      "100%|██████████| 6/6 [00:03<00:00,  1.99it/s, loss=236]\n"
     ]
    },
    {
     "name": "stdout",
     "output_type": "stream",
     "text": [
      "Mean loss was 234.78372955322266\n",
      "Train mAP: 0.2609313726425171\n"
     ]
    },
    {
     "name": "stderr",
     "output_type": "stream",
     "text": [
      "100%|██████████| 6/6 [00:03<00:00,  1.97it/s, loss=294]\n"
     ]
    },
    {
     "name": "stdout",
     "output_type": "stream",
     "text": [
      "Mean loss was 233.76526896158853\n",
      "Train mAP: 0.20443454384803772\n"
     ]
    },
    {
     "name": "stderr",
     "output_type": "stream",
     "text": [
      "100%|██████████| 6/6 [00:03<00:00,  1.93it/s, loss=199]\n"
     ]
    },
    {
     "name": "stdout",
     "output_type": "stream",
     "text": [
      "Mean loss was 219.55201975504556\n",
      "Train mAP: 0.13723823428153992\n"
     ]
    },
    {
     "name": "stderr",
     "output_type": "stream",
     "text": [
      "100%|██████████| 6/6 [00:03<00:00,  1.92it/s, loss=297]\n"
     ]
    },
    {
     "name": "stdout",
     "output_type": "stream",
     "text": [
      "Mean loss was 235.12507120768228\n",
      "Train mAP: 0.16757866740226746\n"
     ]
    },
    {
     "name": "stderr",
     "output_type": "stream",
     "text": [
      "100%|██████████| 6/6 [00:03<00:00,  1.95it/s, loss=277]\n"
     ]
    },
    {
     "name": "stdout",
     "output_type": "stream",
     "text": [
      "Mean loss was 240.1686757405599\n",
      "Train mAP: 0.1867396980524063\n"
     ]
    },
    {
     "name": "stderr",
     "output_type": "stream",
     "text": [
      "100%|██████████| 6/6 [00:03<00:00,  1.96it/s, loss=208]\n"
     ]
    },
    {
     "name": "stdout",
     "output_type": "stream",
     "text": [
      "Mean loss was 221.93060811360678\n",
      "Train mAP: 0.2640487551689148\n"
     ]
    },
    {
     "name": "stderr",
     "output_type": "stream",
     "text": [
      "100%|██████████| 6/6 [00:02<00:00,  2.01it/s, loss=208]\n"
     ]
    },
    {
     "name": "stdout",
     "output_type": "stream",
     "text": [
      "Mean loss was 220.13096872965494\n",
      "Train mAP: 0.138710618019104\n"
     ]
    },
    {
     "name": "stderr",
     "output_type": "stream",
     "text": [
      "100%|██████████| 6/6 [00:03<00:00,  1.96it/s, loss=178]"
     ]
    },
    {
     "name": "stdout",
     "output_type": "stream",
     "text": [
      "Mean loss was 219.1375528971354\n"
     ]
    },
    {
     "name": "stderr",
     "output_type": "stream",
     "text": [
      "\n"
     ]
    }
   ],
   "source": [
    "if __name__ == \"__main__\":\n",
    "    main()"
   ]
  }
 ],
 "metadata": {
  "kaggle": {
   "accelerator": "nvidiaTeslaT4",
   "dataSources": [
    {
     "datasetId": 918769,
     "sourceId": 1556326,
     "sourceType": "datasetVersion"
    }
   ],
   "dockerImageVersionId": 31011,
   "isGpuEnabled": true,
   "isInternetEnabled": true,
   "language": "python",
   "sourceType": "notebook"
  },
  "kernelspec": {
   "display_name": "Python 3",
   "language": "python",
   "name": "python3"
  },
  "language_info": {
   "codemirror_mode": {
    "name": "ipython",
    "version": 3
   },
   "file_extension": ".py",
   "mimetype": "text/x-python",
   "name": "python",
   "nbconvert_exporter": "python",
   "pygments_lexer": "ipython3",
   "version": "3.11.11"
  },
  "papermill": {
   "default_parameters": {},
   "duration": 2088.475367,
   "end_time": "2025-04-22T18:17:29.976500",
   "environment_variables": {},
   "exception": null,
   "input_path": "__notebook__.ipynb",
   "output_path": "__notebook__.ipynb",
   "parameters": {},
   "start_time": "2025-04-22T17:42:41.501133",
   "version": "2.6.0"
  }
 },
 "nbformat": 4,
 "nbformat_minor": 5
}
